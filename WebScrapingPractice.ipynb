{
  "nbformat": 4,
  "nbformat_minor": 0,
  "metadata": {
    "colab": {
      "name": "WebScrapingPractice.ipynb",
      "provenance": [],
      "collapsed_sections": [],
      "authorship_tag": "ABX9TyOxybGi3GHcBtXmMiqX4xl4",
      "include_colab_link": true
    },
    "kernelspec": {
      "name": "python3",
      "display_name": "Python 3"
    },
    "language_info": {
      "name": "python"
    }
  },
  "cells": [
    {
      "cell_type": "markdown",
      "metadata": {
        "id": "view-in-github",
        "colab_type": "text"
      },
      "source": [
        "<a href=\"https://colab.research.google.com/github/Oreolorun/NeuralNetsPractice/blob/main/WebScrapingPractice.ipynb\" target=\"_parent\"><img src=\"https://colab.research.google.com/assets/colab-badge.svg\" alt=\"Open In Colab\"/></a>"
      ]
    },
    {
      "cell_type": "code",
      "execution_count": 25,
      "metadata": {
        "id": "fEEp5QTlb6j4"
      },
      "outputs": [],
      "source": [
        "#  Importing libraries\n",
        "from urllib.request import urlopen\n",
        "import urllib.request\n",
        "from bs4 import BeautifulSoup\n",
        "import pandas as pd\n",
        "import numpy as np\n",
        "import os\n",
        "import requests\n",
        "import cv2\n",
        "import matplotlib.pyplot as plt\n",
        "from tqdm import tqdm"
      ]
    },
    {
      "cell_type": "code",
      "source": [
        "#  mounting drive\n",
        "from google.colab import drive\n",
        "drive.mount('/content/gdrive')"
      ],
      "metadata": {
        "colab": {
          "base_uri": "https://localhost:8080/"
        },
        "id": "fybJtzwch0f3",
        "outputId": "5c0d7b46-614a-4812-8599-6f03502d5533"
      },
      "execution_count": 2,
      "outputs": [
        {
          "output_type": "stream",
          "name": "stdout",
          "text": [
            "Mounted at /content/gdrive\n"
          ]
        }
      ]
    },
    {
      "cell_type": "code",
      "source": [
        "os.getcwd()"
      ],
      "metadata": {
        "colab": {
          "base_uri": "https://localhost:8080/",
          "height": 35
        },
        "id": "Z51yEGxV_MQl",
        "outputId": "9e1c6286-e1f5-43cd-d394-47b34b735927"
      },
      "execution_count": 15,
      "outputs": [
        {
          "output_type": "execute_result",
          "data": {
            "application/vnd.google.colaboratory.intrinsic+json": {
              "type": "string"
            },
            "text/plain": [
              "'/content/gdrive/My Drive/Datasets/Car_Images/sedans'"
            ]
          },
          "metadata": {},
          "execution_count": 15
        }
      ]
    },
    {
      "cell_type": "code",
      "source": [
        "#  Scraping\n",
        "url = 'https://www.ebay.com/b/Toyota-Corolla-Cars/6001/bn_24017042'\n",
        "\n",
        "hdr = {'User-Agent': 'Mozilla/5.0 (X11; Linux x86_64) AppleWebKit/537.11 (KHTML, like Gecko) Chrome/23.0.1271.64 Safari/537.11',\n",
        "       'Accept': 'text/html,application/xhtml+xml,application/xml;q=0.9,*/*;q=0.8',\n",
        "       'Accept-Charset': 'ISO-8859-1,utf-8;q=0.7,*;q=0.3',\n",
        "       'Accept-Encoding': 'none',\n",
        "       'Accept-Language': 'en-US,en;q=0.8',\n",
        "       'Connection': 'keep-alive'}\n",
        "\n",
        "request = urllib.request.Request(url, headers=hdr)\n",
        "\n",
        "html = urlopen(request)\n",
        "bs = BeautifulSoup(html.read(), 'html.parser')\n",
        "\n",
        "#  Filtering car names and prices\n",
        "car_titles = bs.find_all('h3', attrs={'class':'s-item__title'})\n",
        "car_prices = bs.find_all('span', attrs={'class':'s-item__price'})\n",
        "\n",
        "#  Creating lists and a dictionary to hold scrapped data\n",
        "cars = []\n",
        "prices = []\n",
        "scrapped = {}\n",
        "\n",
        "#  Iterating through car names and appending to list\n",
        "for title in car_titles:\n",
        "  cars.append(title.get_text())\n",
        "\n",
        "#  Iterating through car prices and appending to list\n",
        "for price in car_prices:\n",
        "  prices.append(price.get_text())\n",
        "\n",
        "#  Creating key, value pairs in dictionary\n",
        "scrapped['Car'] = cars\n",
        "scrapped['Price'] = prices"
      ],
      "metadata": {
        "id": "daemGfzOcl6X"
      },
      "execution_count": 3,
      "outputs": []
    },
    {
      "cell_type": "code",
      "source": [
        "#  Creating dataframe object\n",
        "df = pd.DataFrame(scrapped)\n",
        "df.head()"
      ],
      "metadata": {
        "colab": {
          "base_uri": "https://localhost:8080/",
          "height": 206
        },
        "id": "BVSgHHHz81px",
        "outputId": "aceb58fe-36b7-42b0-9083-afb36a900aca"
      },
      "execution_count": 4,
      "outputs": [
        {
          "output_type": "execute_result",
          "data": {
            "text/html": [
              "\n",
              "  <div id=\"df-e59cd980-7e15-4a5f-a1a7-5f00c5e4be40\">\n",
              "    <div class=\"colab-df-container\">\n",
              "      <div>\n",
              "<style scoped>\n",
              "    .dataframe tbody tr th:only-of-type {\n",
              "        vertical-align: middle;\n",
              "    }\n",
              "\n",
              "    .dataframe tbody tr th {\n",
              "        vertical-align: top;\n",
              "    }\n",
              "\n",
              "    .dataframe thead th {\n",
              "        text-align: right;\n",
              "    }\n",
              "</style>\n",
              "<table border=\"1\" class=\"dataframe\">\n",
              "  <thead>\n",
              "    <tr style=\"text-align: right;\">\n",
              "      <th></th>\n",
              "      <th>Car</th>\n",
              "      <th>Price</th>\n",
              "    </tr>\n",
              "  </thead>\n",
              "  <tbody>\n",
              "    <tr>\n",
              "      <th>0</th>\n",
              "      <td>1987 Toyota Corolla SPORT SR5</td>\n",
              "      <td>$16,000.00</td>\n",
              "    </tr>\n",
              "    <tr>\n",
              "      <th>1</th>\n",
              "      <td>2009 Toyota Corolla XRS Sedan 4D</td>\n",
              "      <td>$10,495.00</td>\n",
              "    </tr>\n",
              "    <tr>\n",
              "      <th>2</th>\n",
              "      <td>2001 Toyota Corolla LE Sedan 4D</td>\n",
              "      <td>$6,995.00</td>\n",
              "    </tr>\n",
              "    <tr>\n",
              "      <th>3</th>\n",
              "      <td>2020 Toyota Corolla LE</td>\n",
              "      <td>$14,300.00</td>\n",
              "    </tr>\n",
              "    <tr>\n",
              "      <th>4</th>\n",
              "      <td>2019 Toyota Corolla LE-EDITION</td>\n",
              "      <td>$8,950.00</td>\n",
              "    </tr>\n",
              "  </tbody>\n",
              "</table>\n",
              "</div>\n",
              "      <button class=\"colab-df-convert\" onclick=\"convertToInteractive('df-e59cd980-7e15-4a5f-a1a7-5f00c5e4be40')\"\n",
              "              title=\"Convert this dataframe to an interactive table.\"\n",
              "              style=\"display:none;\">\n",
              "        \n",
              "  <svg xmlns=\"http://www.w3.org/2000/svg\" height=\"24px\"viewBox=\"0 0 24 24\"\n",
              "       width=\"24px\">\n",
              "    <path d=\"M0 0h24v24H0V0z\" fill=\"none\"/>\n",
              "    <path d=\"M18.56 5.44l.94 2.06.94-2.06 2.06-.94-2.06-.94-.94-2.06-.94 2.06-2.06.94zm-11 1L8.5 8.5l.94-2.06 2.06-.94-2.06-.94L8.5 2.5l-.94 2.06-2.06.94zm10 10l.94 2.06.94-2.06 2.06-.94-2.06-.94-.94-2.06-.94 2.06-2.06.94z\"/><path d=\"M17.41 7.96l-1.37-1.37c-.4-.4-.92-.59-1.43-.59-.52 0-1.04.2-1.43.59L10.3 9.45l-7.72 7.72c-.78.78-.78 2.05 0 2.83L4 21.41c.39.39.9.59 1.41.59.51 0 1.02-.2 1.41-.59l7.78-7.78 2.81-2.81c.8-.78.8-2.07 0-2.86zM5.41 20L4 18.59l7.72-7.72 1.47 1.35L5.41 20z\"/>\n",
              "  </svg>\n",
              "      </button>\n",
              "      \n",
              "  <style>\n",
              "    .colab-df-container {\n",
              "      display:flex;\n",
              "      flex-wrap:wrap;\n",
              "      gap: 12px;\n",
              "    }\n",
              "\n",
              "    .colab-df-convert {\n",
              "      background-color: #E8F0FE;\n",
              "      border: none;\n",
              "      border-radius: 50%;\n",
              "      cursor: pointer;\n",
              "      display: none;\n",
              "      fill: #1967D2;\n",
              "      height: 32px;\n",
              "      padding: 0 0 0 0;\n",
              "      width: 32px;\n",
              "    }\n",
              "\n",
              "    .colab-df-convert:hover {\n",
              "      background-color: #E2EBFA;\n",
              "      box-shadow: 0px 1px 2px rgba(60, 64, 67, 0.3), 0px 1px 3px 1px rgba(60, 64, 67, 0.15);\n",
              "      fill: #174EA6;\n",
              "    }\n",
              "\n",
              "    [theme=dark] .colab-df-convert {\n",
              "      background-color: #3B4455;\n",
              "      fill: #D2E3FC;\n",
              "    }\n",
              "\n",
              "    [theme=dark] .colab-df-convert:hover {\n",
              "      background-color: #434B5C;\n",
              "      box-shadow: 0px 1px 3px 1px rgba(0, 0, 0, 0.15);\n",
              "      filter: drop-shadow(0px 1px 2px rgba(0, 0, 0, 0.3));\n",
              "      fill: #FFFFFF;\n",
              "    }\n",
              "  </style>\n",
              "\n",
              "      <script>\n",
              "        const buttonEl =\n",
              "          document.querySelector('#df-e59cd980-7e15-4a5f-a1a7-5f00c5e4be40 button.colab-df-convert');\n",
              "        buttonEl.style.display =\n",
              "          google.colab.kernel.accessAllowed ? 'block' : 'none';\n",
              "\n",
              "        async function convertToInteractive(key) {\n",
              "          const element = document.querySelector('#df-e59cd980-7e15-4a5f-a1a7-5f00c5e4be40');\n",
              "          const dataTable =\n",
              "            await google.colab.kernel.invokeFunction('convertToInteractive',\n",
              "                                                     [key], {});\n",
              "          if (!dataTable) return;\n",
              "\n",
              "          const docLinkHtml = 'Like what you see? Visit the ' +\n",
              "            '<a target=\"_blank\" href=https://colab.research.google.com/notebooks/data_table.ipynb>data table notebook</a>'\n",
              "            + ' to learn more about interactive tables.';\n",
              "          element.innerHTML = '';\n",
              "          dataTable['output_type'] = 'display_data';\n",
              "          await google.colab.output.renderOutput(dataTable, element);\n",
              "          const docLink = document.createElement('div');\n",
              "          docLink.innerHTML = docLinkHtml;\n",
              "          element.appendChild(docLink);\n",
              "        }\n",
              "      </script>\n",
              "    </div>\n",
              "  </div>\n",
              "  "
            ],
            "text/plain": [
              "                                Car       Price\n",
              "0     1987 Toyota Corolla SPORT SR5  $16,000.00\n",
              "1  2009 Toyota Corolla XRS Sedan 4D  $10,495.00\n",
              "2   2001 Toyota Corolla LE Sedan 4D   $6,995.00\n",
              "3            2020 Toyota Corolla LE  $14,300.00\n",
              "4    2019 Toyota Corolla LE-EDITION   $8,950.00"
            ]
          },
          "metadata": {},
          "execution_count": 4
        }
      ]
    },
    {
      "cell_type": "code",
      "source": [
        "#  Formatting the 'Price' attribute as float\n",
        "df.Price = df.Price.map(lambda x: x[1:].replace(',',''))\n",
        "df['Price'] = df['Price'].astype(float)\n",
        "df.head()"
      ],
      "metadata": {
        "colab": {
          "base_uri": "https://localhost:8080/",
          "height": 206
        },
        "id": "QtUHhIWr4_0N",
        "outputId": "a79ee183-0566-4f40-ae4f-eb20ecfb3fdd"
      },
      "execution_count": 5,
      "outputs": [
        {
          "output_type": "execute_result",
          "data": {
            "text/html": [
              "\n",
              "  <div id=\"df-68230ebe-6d15-4f0b-98bb-a0f7aa1848a5\">\n",
              "    <div class=\"colab-df-container\">\n",
              "      <div>\n",
              "<style scoped>\n",
              "    .dataframe tbody tr th:only-of-type {\n",
              "        vertical-align: middle;\n",
              "    }\n",
              "\n",
              "    .dataframe tbody tr th {\n",
              "        vertical-align: top;\n",
              "    }\n",
              "\n",
              "    .dataframe thead th {\n",
              "        text-align: right;\n",
              "    }\n",
              "</style>\n",
              "<table border=\"1\" class=\"dataframe\">\n",
              "  <thead>\n",
              "    <tr style=\"text-align: right;\">\n",
              "      <th></th>\n",
              "      <th>Car</th>\n",
              "      <th>Price</th>\n",
              "    </tr>\n",
              "  </thead>\n",
              "  <tbody>\n",
              "    <tr>\n",
              "      <th>0</th>\n",
              "      <td>1987 Toyota Corolla SPORT SR5</td>\n",
              "      <td>16000.0</td>\n",
              "    </tr>\n",
              "    <tr>\n",
              "      <th>1</th>\n",
              "      <td>2009 Toyota Corolla XRS Sedan 4D</td>\n",
              "      <td>10495.0</td>\n",
              "    </tr>\n",
              "    <tr>\n",
              "      <th>2</th>\n",
              "      <td>2001 Toyota Corolla LE Sedan 4D</td>\n",
              "      <td>6995.0</td>\n",
              "    </tr>\n",
              "    <tr>\n",
              "      <th>3</th>\n",
              "      <td>2020 Toyota Corolla LE</td>\n",
              "      <td>14300.0</td>\n",
              "    </tr>\n",
              "    <tr>\n",
              "      <th>4</th>\n",
              "      <td>2019 Toyota Corolla LE-EDITION</td>\n",
              "      <td>8950.0</td>\n",
              "    </tr>\n",
              "  </tbody>\n",
              "</table>\n",
              "</div>\n",
              "      <button class=\"colab-df-convert\" onclick=\"convertToInteractive('df-68230ebe-6d15-4f0b-98bb-a0f7aa1848a5')\"\n",
              "              title=\"Convert this dataframe to an interactive table.\"\n",
              "              style=\"display:none;\">\n",
              "        \n",
              "  <svg xmlns=\"http://www.w3.org/2000/svg\" height=\"24px\"viewBox=\"0 0 24 24\"\n",
              "       width=\"24px\">\n",
              "    <path d=\"M0 0h24v24H0V0z\" fill=\"none\"/>\n",
              "    <path d=\"M18.56 5.44l.94 2.06.94-2.06 2.06-.94-2.06-.94-.94-2.06-.94 2.06-2.06.94zm-11 1L8.5 8.5l.94-2.06 2.06-.94-2.06-.94L8.5 2.5l-.94 2.06-2.06.94zm10 10l.94 2.06.94-2.06 2.06-.94-2.06-.94-.94-2.06-.94 2.06-2.06.94z\"/><path d=\"M17.41 7.96l-1.37-1.37c-.4-.4-.92-.59-1.43-.59-.52 0-1.04.2-1.43.59L10.3 9.45l-7.72 7.72c-.78.78-.78 2.05 0 2.83L4 21.41c.39.39.9.59 1.41.59.51 0 1.02-.2 1.41-.59l7.78-7.78 2.81-2.81c.8-.78.8-2.07 0-2.86zM5.41 20L4 18.59l7.72-7.72 1.47 1.35L5.41 20z\"/>\n",
              "  </svg>\n",
              "      </button>\n",
              "      \n",
              "  <style>\n",
              "    .colab-df-container {\n",
              "      display:flex;\n",
              "      flex-wrap:wrap;\n",
              "      gap: 12px;\n",
              "    }\n",
              "\n",
              "    .colab-df-convert {\n",
              "      background-color: #E8F0FE;\n",
              "      border: none;\n",
              "      border-radius: 50%;\n",
              "      cursor: pointer;\n",
              "      display: none;\n",
              "      fill: #1967D2;\n",
              "      height: 32px;\n",
              "      padding: 0 0 0 0;\n",
              "      width: 32px;\n",
              "    }\n",
              "\n",
              "    .colab-df-convert:hover {\n",
              "      background-color: #E2EBFA;\n",
              "      box-shadow: 0px 1px 2px rgba(60, 64, 67, 0.3), 0px 1px 3px 1px rgba(60, 64, 67, 0.15);\n",
              "      fill: #174EA6;\n",
              "    }\n",
              "\n",
              "    [theme=dark] .colab-df-convert {\n",
              "      background-color: #3B4455;\n",
              "      fill: #D2E3FC;\n",
              "    }\n",
              "\n",
              "    [theme=dark] .colab-df-convert:hover {\n",
              "      background-color: #434B5C;\n",
              "      box-shadow: 0px 1px 3px 1px rgba(0, 0, 0, 0.15);\n",
              "      filter: drop-shadow(0px 1px 2px rgba(0, 0, 0, 0.3));\n",
              "      fill: #FFFFFF;\n",
              "    }\n",
              "  </style>\n",
              "\n",
              "      <script>\n",
              "        const buttonEl =\n",
              "          document.querySelector('#df-68230ebe-6d15-4f0b-98bb-a0f7aa1848a5 button.colab-df-convert');\n",
              "        buttonEl.style.display =\n",
              "          google.colab.kernel.accessAllowed ? 'block' : 'none';\n",
              "\n",
              "        async function convertToInteractive(key) {\n",
              "          const element = document.querySelector('#df-68230ebe-6d15-4f0b-98bb-a0f7aa1848a5');\n",
              "          const dataTable =\n",
              "            await google.colab.kernel.invokeFunction('convertToInteractive',\n",
              "                                                     [key], {});\n",
              "          if (!dataTable) return;\n",
              "\n",
              "          const docLinkHtml = 'Like what you see? Visit the ' +\n",
              "            '<a target=\"_blank\" href=https://colab.research.google.com/notebooks/data_table.ipynb>data table notebook</a>'\n",
              "            + ' to learn more about interactive tables.';\n",
              "          element.innerHTML = '';\n",
              "          dataTable['output_type'] = 'display_data';\n",
              "          await google.colab.output.renderOutput(dataTable, element);\n",
              "          const docLink = document.createElement('div');\n",
              "          docLink.innerHTML = docLinkHtml;\n",
              "          element.appendChild(docLink);\n",
              "        }\n",
              "      </script>\n",
              "    </div>\n",
              "  </div>\n",
              "  "
            ],
            "text/plain": [
              "                                Car    Price\n",
              "0     1987 Toyota Corolla SPORT SR5  16000.0\n",
              "1  2009 Toyota Corolla XRS Sedan 4D  10495.0\n",
              "2   2001 Toyota Corolla LE Sedan 4D   6995.0\n",
              "3            2020 Toyota Corolla LE  14300.0\n",
              "4    2019 Toyota Corolla LE-EDITION   8950.0"
            ]
          },
          "metadata": {},
          "execution_count": 5
        }
      ]
    },
    {
      "cell_type": "markdown",
      "source": [
        "## Ebay"
      ],
      "metadata": {
        "id": "8nvMqLnss4H4"
      }
    },
    {
      "cell_type": "code",
      "source": [
        "#  Ebay\n",
        "\n",
        "image_count = 0\n",
        "image_src = []\n",
        "\n",
        "for i in tqdm(range(1,11)):\n",
        "  url_2 = f'https://www.dreamstime.com/photos-images/sedan-car.html?pg={str(i)}'\n",
        "\n",
        "  hdr = {'User-Agent': 'MyApp/1.0',\n",
        "       'Accept': 'text/html,application/xhtml+xml,application/xml;q=0.9,*/*;q=0.8',\n",
        "       'Accept-Charset': 'ISO-8859-1,utf-8;q=0.7,*;q=0.3',\n",
        "       'Accept-Encoding': 'none',\n",
        "       'Accept-Language': 'en-US,en;q=0.8',\n",
        "       'Connection': 'keep-alive'}\n",
        "\n",
        "  request_2 = urllib.request.Request(url_2, headers=hdr)\n",
        "\n",
        "  html_2 = urlopen(request_2)\n",
        "  bs_2 = BeautifulSoup(html_2.read(), 'html.parser')\n",
        "\n",
        "  images = bs_2.find_all('img', attrs={'class':'dt-image'})\n",
        "\n",
        "  for image in images:\n",
        "    image_src.append(image['data-src'])"
      ],
      "metadata": {
        "id": "DR5es_mo7zxZ"
      },
      "execution_count": null,
      "outputs": []
    },
    {
      "cell_type": "code",
      "source": [
        "image_src"
      ],
      "metadata": {
        "id": "ugzZ_x59FwGM"
      },
      "execution_count": null,
      "outputs": []
    },
    {
      "cell_type": "code",
      "source": [
        "#  Downloading images\n",
        "image_count = 460\n",
        "for image in tqdm(image_src[460:]):\n",
        "  with open(f'sedan_{str(image_count)}.jpg', 'wb') as f:\n",
        "    res = requests.get(image)\n",
        "    f.write(res.content)\n",
        "  image_count+=1"
      ],
      "metadata": {
        "id": "EUqMHs2mAEdc"
      },
      "execution_count": null,
      "outputs": []
    },
    {
      "cell_type": "markdown",
      "source": [
        "## Google"
      ],
      "metadata": {
        "id": "9ZdtkGBBs8su"
      }
    },
    {
      "cell_type": "code",
      "source": [
        "url = 'https://www.google.com/search?q=sedan+cars&tbm=isch&ved=2ahUKEwjJyuagzvL0AhVCEhoKHX9WB1kQ2-cCegQIABAA&oq=sedan+&gs_lcp=CgNpbWcQARgAMgcIIxDvAxAnMgQIABBDMgQIABBDMgQIABBDMgQIABBDMgUIABCABDIFCAAQgAQyBQgAEIAEMgUIABCABDIFCAAQgAQ6BwgAELEDEEM6CggjEO8DEOoCECc6BAgAEAM6CAgAEIAEELEDOggIABCxAxCDAToLCAAQgAQQsQMQgwFQ_QVYhx1g9CVoAXAAeAGAAcgDiAHpHJIBCTAuNC42LjIuMpgBAKABAaoBC2d3cy13aXotaW1nsAEKwAEB&sclient=img&ei=N5bAYYnTA8KkaP-sncgF&rlz=1C1CHBD_enNG789NG790'\n",
        "\n",
        "hdr = {'User-Agent': 'Mozilla/5.0 (X11; Linux x86_64) AppleWebKit/537.11 (KHTML, like Gecko) Chrome/23.0.1271.64 Safari/537.11',\n",
        "       'Accept': 'text/html,application/xhtml+xml,application/xml;q=0.9,*/*;q=0.8',\n",
        "       'Accept-Charset': 'ISO-8859-1,utf-8;q=0.7,*;q=0.3',\n",
        "       'Accept-Encoding': 'none',\n",
        "       'Accept-Language': 'en-US,en;q=0.8',\n",
        "       'Connection': 'keep-alive'}\n",
        "\n",
        "request = urllib.request.Request(url, headers=hdr)\n",
        "\n",
        "html = urlopen(request)\n",
        "bs = BeautifulSoup(html.read(), 'html.parser')\n",
        "\n",
        "images_google = bs.find_all('img')"
      ],
      "metadata": {
        "id": "6TfZL-znh_7Q"
      },
      "execution_count": 55,
      "outputs": []
    },
    {
      "cell_type": "code",
      "source": [
        "images_google"
      ],
      "metadata": {
        "colab": {
          "base_uri": "https://localhost:8080/"
        },
        "id": "d7s6Ztl9kF76",
        "outputId": "10aed272-16f5-4dd4-be6c-f335858b6271"
      },
      "execution_count": 56,
      "outputs": [
        {
          "output_type": "execute_result",
          "data": {
            "text/plain": [
              "[<img alt=\"Google\" class=\"kgJEQe\" src=\"/images/branding/searchlogo/1x/googlelogo_desk_heirloom_color_150x55dp.gif\"/>,\n",
              " <img alt=\"\" class=\"yWs4tf\" src=\"https://encrypted-tbn0.gstatic.com/images?q=tbn:ANd9GcTDEHs09yaxmb-ettvi-NOPg1huqpg1q12_ZKFFKQtkKE_2k4QjpzvIK0Dm8K0&amp;s\"/>,\n",
              " <img alt=\"\" class=\"yWs4tf\" src=\"https://encrypted-tbn0.gstatic.com/images?q=tbn:ANd9GcQwXOMziAtUQCVPXpVfspOdXDwSBBPsnUZV1D6WZFPNQacHQ-l1AHqm4AU9Tz8&amp;s\"/>,\n",
              " <img alt=\"\" class=\"yWs4tf\" src=\"https://encrypted-tbn0.gstatic.com/images?q=tbn:ANd9GcQTKuLzHzx8rmVwEtyuMyyd4M1elHB6TqWhqvRcQdFvNZRtPZkdqzRXx24zzGk&amp;s\"/>,\n",
              " <img alt=\"\" class=\"yWs4tf\" src=\"https://encrypted-tbn0.gstatic.com/images?q=tbn:ANd9GcRxYHbETeboxPuJmdGly0-IHzFJRa7vAvlPQU1tJTM8PQPzUOYw830s7FMdKtA&amp;s\"/>,\n",
              " <img alt=\"\" class=\"yWs4tf\" src=\"https://encrypted-tbn0.gstatic.com/images?q=tbn:ANd9GcSAfNd8huMm__o6qoOM9LCi_oeAycsVEubKb6ycX4DDge5RoY9vXMEMm385PqE&amp;s\"/>,\n",
              " <img alt=\"\" class=\"yWs4tf\" src=\"https://encrypted-tbn0.gstatic.com/images?q=tbn:ANd9GcQuaHcN0Ew9Of0R1_bkJ2NG0tE4qZy5QxfSID1cCJvTst0fxDVXsK6j-O7bkg&amp;s\"/>,\n",
              " <img alt=\"\" class=\"yWs4tf\" src=\"https://encrypted-tbn0.gstatic.com/images?q=tbn:ANd9GcTyUm0giq_34GJUJDCvkXUyWZZ4S44mZhXg9nONiuDcVCEBgQiYvrkuVXbpUg&amp;s\"/>,\n",
              " <img alt=\"\" class=\"yWs4tf\" src=\"https://encrypted-tbn0.gstatic.com/images?q=tbn:ANd9GcShdc17SaJriHxie3wSHsj2C7FbJGjf21O28mx5b76t0gxeWXGq1Wth5HoPRso&amp;s\"/>,\n",
              " <img alt=\"\" class=\"yWs4tf\" src=\"https://encrypted-tbn0.gstatic.com/images?q=tbn:ANd9GcTril452ihj7MVdZhHJ4WoeihBRiT2X9uuvntzrVhsAk5mVrr_YmU98BEUnZas&amp;s\"/>,\n",
              " <img alt=\"\" class=\"yWs4tf\" src=\"https://encrypted-tbn0.gstatic.com/images?q=tbn:ANd9GcSzSHrDM1Wm56OgeqeKqlphrXDcBh4ZFHNNmlSyVNHE52Yt-oUms8CIOUejcg&amp;s\"/>,\n",
              " <img alt=\"\" class=\"yWs4tf\" src=\"https://encrypted-tbn0.gstatic.com/images?q=tbn:ANd9GcQGPKHug8n08mzRZLkA1mJtGSVW3eL_vmoVRfPsuo2r7uOfYgqfH17Q3oAn_g&amp;s\"/>,\n",
              " <img alt=\"\" class=\"yWs4tf\" src=\"https://encrypted-tbn0.gstatic.com/images?q=tbn:ANd9GcScDbAzSrtTKLMV1FQfHSfy9ZVyLpalj2NaRwsM2Cb8gRUgZSOGe5m1CcF8pg&amp;s\"/>,\n",
              " <img alt=\"\" class=\"yWs4tf\" src=\"https://encrypted-tbn0.gstatic.com/images?q=tbn:ANd9GcQQujF2udIpVT59h73y63ZCiJeEjy9gPZkCiRhAEm232SCFCQqnRc0Uf8NRREY&amp;s\"/>,\n",
              " <img alt=\"\" class=\"yWs4tf\" src=\"https://encrypted-tbn0.gstatic.com/images?q=tbn:ANd9GcSbPN4nQzXNH7l_YgJixyDPApdJQrbXVRWozFkHtCnKWkrNSqPH5GCgZPUgxBk&amp;s\"/>,\n",
              " <img alt=\"\" class=\"yWs4tf\" src=\"https://encrypted-tbn0.gstatic.com/images?q=tbn:ANd9GcS_h3NfqY50eFQGIVDnZEzhZsPDfLL3Ku_v8serGjIqeNl2xbnlSdciaoQg6VI&amp;s\"/>,\n",
              " <img alt=\"\" class=\"yWs4tf\" src=\"https://encrypted-tbn0.gstatic.com/images?q=tbn:ANd9GcRA7iLKzHgeWqaYcZd1paTHIp55sl09ssaQs5aYd9xZKX3Jay5j8Xep6NVIc9c&amp;s\"/>,\n",
              " <img alt=\"\" class=\"yWs4tf\" src=\"https://encrypted-tbn0.gstatic.com/images?q=tbn:ANd9GcQlI81qdeL1IcbsY07O59IT85AtNYPyQElLF14A8LP1jWlGGuC9lJ99scDn1l0&amp;s\"/>,\n",
              " <img alt=\"\" class=\"yWs4tf\" src=\"https://encrypted-tbn0.gstatic.com/images?q=tbn:ANd9GcSCIGi66j9DvVgErr-hyTbbhv1nFYRe309BuRAzQiZhIMNKTJ5VxQfG0EL7WQ&amp;s\"/>,\n",
              " <img alt=\"\" class=\"yWs4tf\" src=\"https://encrypted-tbn0.gstatic.com/images?q=tbn:ANd9GcSUHlt3i8MIPLKVknBbiZC_EanMNeyXuYc5_iiRK4JyyRniIillb2pk2eX-8SM&amp;s\"/>,\n",
              " <img alt=\"\" class=\"yWs4tf\" src=\"https://encrypted-tbn0.gstatic.com/images?q=tbn:ANd9GcSNBjBiFbd78JMNeWDAF36clBjsZbmer-_AKYrJZgAmsLt2A4Yw1FSj9Li4GPI&amp;s\"/>]"
            ]
          },
          "metadata": {},
          "execution_count": 56
        }
      ]
    }
  ]
}