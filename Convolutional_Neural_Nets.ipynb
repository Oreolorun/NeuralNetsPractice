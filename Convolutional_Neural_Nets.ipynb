{
  "nbformat": 4,
  "nbformat_minor": 0,
  "metadata": {
    "colab": {
      "name": "Convolutional_Neural_Nets.ipynb",
      "provenance": [],
      "authorship_tag": "ABX9TyNqLZ907/oSZ3TNgxEQOpNx",
      "include_colab_link": true
    },
    "kernelspec": {
      "name": "python3",
      "display_name": "Python 3"
    },
    "language_info": {
      "name": "python"
    },
    "widgets": {
      "application/vnd.jupyter.widget-state+json": {
        "b324af492a364b7a94b06a84589fd87b": {
          "model_module": "@jupyter-widgets/controls",
          "model_name": "HBoxModel",
          "model_module_version": "1.5.0",
          "state": {
            "_view_name": "HBoxView",
            "_dom_classes": [],
            "_model_name": "HBoxModel",
            "_view_module": "@jupyter-widgets/controls",
            "_model_module_version": "1.5.0",
            "_view_count": null,
            "_view_module_version": "1.5.0",
            "box_style": "",
            "layout": "IPY_MODEL_003b4a0eb58947c6aa434deeba05f25d",
            "_model_module": "@jupyter-widgets/controls",
            "children": [
              "IPY_MODEL_47a7f3b931b640fda17807bf4f747556",
              "IPY_MODEL_dcec2a58c5534dea8dc21350159b50c7",
              "IPY_MODEL_7a94fa0f2a4447d6881ad8ac476bad9f"
            ]
          }
        },
        "003b4a0eb58947c6aa434deeba05f25d": {
          "model_module": "@jupyter-widgets/base",
          "model_name": "LayoutModel",
          "model_module_version": "1.2.0",
          "state": {
            "_view_name": "LayoutView",
            "grid_template_rows": null,
            "right": null,
            "justify_content": null,
            "_view_module": "@jupyter-widgets/base",
            "overflow": null,
            "_model_module_version": "1.2.0",
            "_view_count": null,
            "flex_flow": null,
            "width": null,
            "min_width": null,
            "border": null,
            "align_items": null,
            "bottom": null,
            "_model_module": "@jupyter-widgets/base",
            "top": null,
            "grid_column": null,
            "overflow_y": null,
            "overflow_x": null,
            "grid_auto_flow": null,
            "grid_area": null,
            "grid_template_columns": null,
            "flex": null,
            "_model_name": "LayoutModel",
            "justify_items": null,
            "grid_row": null,
            "max_height": null,
            "align_content": null,
            "visibility": null,
            "align_self": null,
            "height": null,
            "min_height": null,
            "padding": null,
            "grid_auto_rows": null,
            "grid_gap": null,
            "max_width": null,
            "order": null,
            "_view_module_version": "1.2.0",
            "grid_template_areas": null,
            "object_position": null,
            "object_fit": null,
            "grid_auto_columns": null,
            "margin": null,
            "display": null,
            "left": null
          }
        },
        "47a7f3b931b640fda17807bf4f747556": {
          "model_module": "@jupyter-widgets/controls",
          "model_name": "HTMLModel",
          "model_module_version": "1.5.0",
          "state": {
            "_view_name": "HTMLView",
            "style": "IPY_MODEL_821d098f545646a8b8af24698a4a024e",
            "_dom_classes": [],
            "description": "",
            "_model_name": "HTMLModel",
            "placeholder": "​",
            "_view_module": "@jupyter-widgets/controls",
            "_model_module_version": "1.5.0",
            "value": "100%",
            "_view_count": null,
            "_view_module_version": "1.5.0",
            "description_tooltip": null,
            "_model_module": "@jupyter-widgets/controls",
            "layout": "IPY_MODEL_57179ea50479481ea777f3726f64192c"
          }
        },
        "dcec2a58c5534dea8dc21350159b50c7": {
          "model_module": "@jupyter-widgets/controls",
          "model_name": "FloatProgressModel",
          "model_module_version": "1.5.0",
          "state": {
            "_view_name": "ProgressView",
            "style": "IPY_MODEL_a226d58bcfdb412499ab05425191827d",
            "_dom_classes": [],
            "description": "",
            "_model_name": "FloatProgressModel",
            "bar_style": "success",
            "max": 225,
            "_view_module": "@jupyter-widgets/controls",
            "_model_module_version": "1.5.0",
            "value": 225,
            "_view_count": null,
            "_view_module_version": "1.5.0",
            "orientation": "horizontal",
            "min": 0,
            "description_tooltip": null,
            "_model_module": "@jupyter-widgets/controls",
            "layout": "IPY_MODEL_9b71e767cab749acb2efd393ce722dfe"
          }
        },
        "7a94fa0f2a4447d6881ad8ac476bad9f": {
          "model_module": "@jupyter-widgets/controls",
          "model_name": "HTMLModel",
          "model_module_version": "1.5.0",
          "state": {
            "_view_name": "HTMLView",
            "style": "IPY_MODEL_d358d3de46314a1492fd8b610aa37ebf",
            "_dom_classes": [],
            "description": "",
            "_model_name": "HTMLModel",
            "placeholder": "​",
            "_view_module": "@jupyter-widgets/controls",
            "_model_module_version": "1.5.0",
            "value": " 225/225 [01:54&lt;00:00,  2.30it/s]",
            "_view_count": null,
            "_view_module_version": "1.5.0",
            "description_tooltip": null,
            "_model_module": "@jupyter-widgets/controls",
            "layout": "IPY_MODEL_9a269a4049db4054b48b5d11326cd759"
          }
        },
        "821d098f545646a8b8af24698a4a024e": {
          "model_module": "@jupyter-widgets/controls",
          "model_name": "DescriptionStyleModel",
          "model_module_version": "1.5.0",
          "state": {
            "_view_name": "StyleView",
            "_model_name": "DescriptionStyleModel",
            "description_width": "",
            "_view_module": "@jupyter-widgets/base",
            "_model_module_version": "1.5.0",
            "_view_count": null,
            "_view_module_version": "1.2.0",
            "_model_module": "@jupyter-widgets/controls"
          }
        },
        "57179ea50479481ea777f3726f64192c": {
          "model_module": "@jupyter-widgets/base",
          "model_name": "LayoutModel",
          "model_module_version": "1.2.0",
          "state": {
            "_view_name": "LayoutView",
            "grid_template_rows": null,
            "right": null,
            "justify_content": null,
            "_view_module": "@jupyter-widgets/base",
            "overflow": null,
            "_model_module_version": "1.2.0",
            "_view_count": null,
            "flex_flow": null,
            "width": null,
            "min_width": null,
            "border": null,
            "align_items": null,
            "bottom": null,
            "_model_module": "@jupyter-widgets/base",
            "top": null,
            "grid_column": null,
            "overflow_y": null,
            "overflow_x": null,
            "grid_auto_flow": null,
            "grid_area": null,
            "grid_template_columns": null,
            "flex": null,
            "_model_name": "LayoutModel",
            "justify_items": null,
            "grid_row": null,
            "max_height": null,
            "align_content": null,
            "visibility": null,
            "align_self": null,
            "height": null,
            "min_height": null,
            "padding": null,
            "grid_auto_rows": null,
            "grid_gap": null,
            "max_width": null,
            "order": null,
            "_view_module_version": "1.2.0",
            "grid_template_areas": null,
            "object_position": null,
            "object_fit": null,
            "grid_auto_columns": null,
            "margin": null,
            "display": null,
            "left": null
          }
        },
        "a226d58bcfdb412499ab05425191827d": {
          "model_module": "@jupyter-widgets/controls",
          "model_name": "ProgressStyleModel",
          "model_module_version": "1.5.0",
          "state": {
            "_view_name": "StyleView",
            "_model_name": "ProgressStyleModel",
            "description_width": "",
            "_view_module": "@jupyter-widgets/base",
            "_model_module_version": "1.5.0",
            "_view_count": null,
            "_view_module_version": "1.2.0",
            "bar_color": null,
            "_model_module": "@jupyter-widgets/controls"
          }
        },
        "9b71e767cab749acb2efd393ce722dfe": {
          "model_module": "@jupyter-widgets/base",
          "model_name": "LayoutModel",
          "model_module_version": "1.2.0",
          "state": {
            "_view_name": "LayoutView",
            "grid_template_rows": null,
            "right": null,
            "justify_content": null,
            "_view_module": "@jupyter-widgets/base",
            "overflow": null,
            "_model_module_version": "1.2.0",
            "_view_count": null,
            "flex_flow": null,
            "width": null,
            "min_width": null,
            "border": null,
            "align_items": null,
            "bottom": null,
            "_model_module": "@jupyter-widgets/base",
            "top": null,
            "grid_column": null,
            "overflow_y": null,
            "overflow_x": null,
            "grid_auto_flow": null,
            "grid_area": null,
            "grid_template_columns": null,
            "flex": null,
            "_model_name": "LayoutModel",
            "justify_items": null,
            "grid_row": null,
            "max_height": null,
            "align_content": null,
            "visibility": null,
            "align_self": null,
            "height": null,
            "min_height": null,
            "padding": null,
            "grid_auto_rows": null,
            "grid_gap": null,
            "max_width": null,
            "order": null,
            "_view_module_version": "1.2.0",
            "grid_template_areas": null,
            "object_position": null,
            "object_fit": null,
            "grid_auto_columns": null,
            "margin": null,
            "display": null,
            "left": null
          }
        },
        "d358d3de46314a1492fd8b610aa37ebf": {
          "model_module": "@jupyter-widgets/controls",
          "model_name": "DescriptionStyleModel",
          "model_module_version": "1.5.0",
          "state": {
            "_view_name": "StyleView",
            "_model_name": "DescriptionStyleModel",
            "description_width": "",
            "_view_module": "@jupyter-widgets/base",
            "_model_module_version": "1.5.0",
            "_view_count": null,
            "_view_module_version": "1.2.0",
            "_model_module": "@jupyter-widgets/controls"
          }
        },
        "9a269a4049db4054b48b5d11326cd759": {
          "model_module": "@jupyter-widgets/base",
          "model_name": "LayoutModel",
          "model_module_version": "1.2.0",
          "state": {
            "_view_name": "LayoutView",
            "grid_template_rows": null,
            "right": null,
            "justify_content": null,
            "_view_module": "@jupyter-widgets/base",
            "overflow": null,
            "_model_module_version": "1.2.0",
            "_view_count": null,
            "flex_flow": null,
            "width": null,
            "min_width": null,
            "border": null,
            "align_items": null,
            "bottom": null,
            "_model_module": "@jupyter-widgets/base",
            "top": null,
            "grid_column": null,
            "overflow_y": null,
            "overflow_x": null,
            "grid_auto_flow": null,
            "grid_area": null,
            "grid_template_columns": null,
            "flex": null,
            "_model_name": "LayoutModel",
            "justify_items": null,
            "grid_row": null,
            "max_height": null,
            "align_content": null,
            "visibility": null,
            "align_self": null,
            "height": null,
            "min_height": null,
            "padding": null,
            "grid_auto_rows": null,
            "grid_gap": null,
            "max_width": null,
            "order": null,
            "_view_module_version": "1.2.0",
            "grid_template_areas": null,
            "object_position": null,
            "object_fit": null,
            "grid_auto_columns": null,
            "margin": null,
            "display": null,
            "left": null
          }
        }
      }
    }
  },
  "cells": [
    {
      "cell_type": "markdown",
      "metadata": {
        "id": "view-in-github",
        "colab_type": "text"
      },
      "source": [
        "<a href=\"https://colab.research.google.com/github/Oreolorun/NeuralNetsPractice/blob/main/Convolutional_Neural_Nets.ipynb\" target=\"_parent\"><img src=\"https://colab.research.google.com/assets/colab-badge.svg\" alt=\"Open In Colab\"/></a>"
      ]
    },
    {
      "cell_type": "code",
      "source": [
        "#  mounting drive\n",
        "from google.colab import drive\n",
        "drive.mount('/content/gdrive')"
      ],
      "metadata": {
        "colab": {
          "base_uri": "https://localhost:8080/"
        },
        "id": "5v4mDJo2H13S",
        "outputId": "dbeabfbc-b9a6-4f0e-c8d0-84d730a474e0"
      },
      "execution_count": 1,
      "outputs": [
        {
          "output_type": "stream",
          "name": "stdout",
          "text": [
            "Mounted at /content/gdrive\n"
          ]
        }
      ]
    },
    {
      "cell_type": "code",
      "source": [
        "#  unzipping dataset\n",
        "!unzip gdrive/My\\ Drive/Datasets/kagglecatsanddogs_3367a.zip > /dev/null"
      ],
      "metadata": {
        "id": "-TjtMJZAIUZz"
      },
      "execution_count": 2,
      "outputs": []
    },
    {
      "cell_type": "code",
      "source": [
        "import os\n",
        "import cv2\n",
        "import numpy as np\n",
        "from tqdm import tqdm\n",
        "from tqdm import tqdm_notebook"
      ],
      "metadata": {
        "id": "etDum8BqMe6x"
      },
      "execution_count": 95,
      "outputs": []
    },
    {
      "cell_type": "code",
      "source": [
        "dic = {'a':0, 'b':1}\n",
        "\n",
        "for k, v in dic.items():\n",
        "  print(f'{k}:{v}')"
      ],
      "metadata": {
        "colab": {
          "base_uri": "https://localhost:8080/"
        },
        "id": "p1hx-XA0Lh-B",
        "outputId": "2e3a91ca-3a54-4cfe-93d7-ba1d5eeaada4"
      },
      "execution_count": 6,
      "outputs": [
        {
          "output_type": "stream",
          "name": "stdout",
          "text": [
            "a:0\n",
            "b:1\n"
          ]
        }
      ]
    },
    {
      "cell_type": "code",
      "source": [
        "os.path.join()"
      ],
      "metadata": {
        "id": "r-hoEGK7MWO5"
      },
      "execution_count": null,
      "outputs": []
    },
    {
      "cell_type": "code",
      "execution_count": 35,
      "metadata": {
        "id": "w4pE66JOs4m_",
        "colab": {
          "base_uri": "https://localhost:8080/"
        },
        "outputId": "b2c20ef7-cc6e-4a0a-f8bd-e2ddcbd55701"
      },
      "outputs": [
        {
          "output_type": "stream",
          "name": "stdout",
          "text": [
            "PetImages/Cat\n"
          ]
        },
        {
          "output_type": "stream",
          "name": "stderr",
          "text": [
            "100%|██████████| 12501/12501 [00:22<00:00, 548.55it/s]\n"
          ]
        },
        {
          "output_type": "stream",
          "name": "stdout",
          "text": [
            "PetImages/Dog\n"
          ]
        },
        {
          "output_type": "stream",
          "name": "stderr",
          "text": [
            "100%|██████████| 12501/12501 [00:17<00:00, 716.29it/s]\n",
            "/usr/local/lib/python3.7/dist-packages/numpy/core/_asarray.py:136: VisibleDeprecationWarning: Creating an ndarray from ragged nested sequences (which is a list-or-tuple of lists-or-tuples-or ndarrays with different lengths or shapes) is deprecated. If you meant to do this, you must specify 'dtype=object' when creating the ndarray\n",
            "  return array(a, dtype, copy=False, order=order, subok=True)\n"
          ]
        },
        {
          "output_type": "stream",
          "name": "stdout",
          "text": [
            "Cats: 12476\n",
            "Dogs: 12470\n"
          ]
        }
      ],
      "source": [
        "#  define class to build data\n",
        "REBUILD_DATA=False\n",
        "\n",
        "class DogsVSCats():\n",
        "  def __init__(self):\n",
        "    self.IMG_SIZE = 50\n",
        "    self.CATS = 'PetImages/Cat'\n",
        "    self.DOGS = 'PetImages/Dog'\n",
        "    self.LABELS = {self.CATS: 0, self.DOGS: 1}\n",
        "    self.training_data = []\n",
        "    self.catcount = 0\n",
        "    self.dogcount = 0\n",
        "\n",
        "  def make_training_data(self):\n",
        "    for label in self.LABELS:\n",
        "      print(label)\n",
        "      for f in tqdm(os.listdir(label)):\n",
        "        try:\n",
        "          path = os.path.join(label, f)\n",
        "          img = cv2.imread(path, cv2.IMREAD_GRAYSCALE)\n",
        "          img = cv2.resize(img, (self.IMG_SIZE, self.IMG_SIZE))\n",
        "          self.training_data.append([np.array(img), np.eye(2)[self.LABELS[label]]])\n",
        "\n",
        "          if label == self.CATS:\n",
        "            self.catcount+=1\n",
        "          elif label == self.DOGS:\n",
        "            self.dogcount+=1\n",
        "        except Exception as e:\n",
        "          pass\n",
        "\n",
        "    np.random.shuffle(self.training_data)\n",
        "    np.save('training_data.npy', self.training_data)\n",
        "    print('Cats:', self.catcount)\n",
        "    print('Dogs:', self.dogcount)\n",
        "\n",
        "if REBUILD_DATA:\n",
        "  dogsvcats = DogsVSCats()\n",
        "  dogsvcats.make_training_data()"
      ]
    },
    {
      "cell_type": "code",
      "source": [
        "training_data = np.load('training_data.npy', allow_pickle=True)"
      ],
      "metadata": {
        "id": "x6ZLCpcNVVrF"
      },
      "execution_count": 43,
      "outputs": []
    },
    {
      "cell_type": "code",
      "source": [
        "import matplotlib.pyplot as plt\n",
        "\n",
        "plt.figure(figsize=(2,2))\n",
        "plt.imshow(training_data[9576][0], cmap='gray')"
      ],
      "metadata": {
        "colab": {
          "base_uri": "https://localhost:8080/",
          "height": 177
        },
        "id": "RU4zkbz0Zw-T",
        "outputId": "6964e38e-6bef-46f7-e8b0-3009d2697f6c"
      },
      "execution_count": 57,
      "outputs": [
        {
          "output_type": "execute_result",
          "data": {
            "text/plain": [
              "<matplotlib.image.AxesImage at 0x7faab15fa7d0>"
            ]
          },
          "metadata": {},
          "execution_count": 57
        },
        {
          "output_type": "display_data",
          "data": {
            "image/png": "[encoded data removed]",
            "text/plain": [
              "<Figure size 144x144 with 1 Axes>"
            ]
          },
          "metadata": {
            "needs_background": "light"
          }
        }
      ]
    },
    {
      "cell_type": "code",
      "source": [
        "import torch\n",
        "import torch.nn as nn\n",
        "import torch.nn.functional as F"
      ],
      "metadata": {
        "id": "FR4E2uEAbCGK"
      },
      "execution_count": 64,
      "outputs": []
    },
    {
      "cell_type": "code",
      "source": [
        "class Net(nn.Module):\n",
        "  def __init__(self):\n",
        "    super().__init__()\n",
        "    self.conv1 = nn.Conv2d(1, 32, 5)\n",
        "    self.conv2 = nn.Conv2d(32, 64, 5)\n",
        "    self.conv3 = nn.Conv2d(64, 128, 5)\n",
        "\n",
        "    x = torch.randn(50,50).view(-1,1,50,50)\n",
        "    self._to_linear = None\n",
        "    self.convs(x)\n",
        "    self.fc1 = nn.Linear(self._to_linear, 512)\n",
        "    self.fc2 = nn.Linear(512, 2)\n",
        "\n",
        "  def convs(self, x):\n",
        "    x = F.max_pool2d(F.relu(self.conv1(x)), (2,2))\n",
        "    x = F.max_pool2d(F.relu(self.conv2(x)), (2,2))\n",
        "    x = F.max_pool2d(F.relu(self.conv3(x)), (2,2))\n",
        "\n",
        "    print(x[0].shape)\n",
        "    if self._to_linear is None:\n",
        "      self._to_linear = x[0].shape[0]*x[0].shape[1]*x[0].shape[2]\n",
        "    return x\n",
        "\n",
        "  def forward(self, x):\n",
        "    x = self.convs(x)\n",
        "    x = x.view(-1, self._to_linear)\n",
        "    x = F.relu(self.fc1(x))\n",
        "    x = self.fc2(x)\n",
        "    return F.softmax(x, dim=1)\n",
        "\n",
        "net = Net()"
      ],
      "metadata": {
        "colab": {
          "base_uri": "https://localhost:8080/"
        },
        "id": "KmtB1mL4bkKF",
        "outputId": "e126b6c8-b1b2-4b76-e1b9-3d0b3c472cfe"
      },
      "execution_count": 103,
      "outputs": [
        {
          "output_type": "stream",
          "name": "stdout",
          "text": [
            "torch.Size([128, 2, 2])\n"
          ]
        }
      ]
    },
    {
      "cell_type": "code",
      "source": [
        "import torch.optim as optim\n",
        "\n",
        "optimizer = optim.Adam(net.parameters(), lr=0.001)\n",
        "loss_fn = nn.MSELoss()\n",
        "\n",
        "X = torch.tensor([i[0] for i in training_data]).view(-1, 50, 50)\n",
        "X = X/255.0\n",
        "y = torch.tensor([i[1] for i in training_data])\n",
        "\n",
        "val_pct = 0.1\n",
        "val_size = int(len(X))*val_pct\n",
        "val_size = int(val_size)\n",
        "val_size"
      ],
      "metadata": {
        "colab": {
          "base_uri": "https://localhost:8080/"
        },
        "id": "dey-DSkUgNga",
        "outputId": "a1b71bda-a5cc-4c13-add1-562faeda21c4"
      },
      "execution_count": 71,
      "outputs": [
        {
          "output_type": "execute_result",
          "data": {
            "text/plain": [
              "2494"
            ]
          },
          "metadata": {},
          "execution_count": 71
        }
      ]
    },
    {
      "cell_type": "code",
      "source": [
        "X_train = X[:-val_size]\n",
        "y_train = y[:-val_size]\n",
        "\n",
        "X_test = X[-val_size:]\n",
        "y_test = y[-val_size:]\n",
        "\n",
        "print(len(X_test))\n",
        "print(len(X_train))"
      ],
      "metadata": {
        "colab": {
          "base_uri": "https://localhost:8080/"
        },
        "id": "noMIifselF-v",
        "outputId": "da1daa49-648e-47a6-90e2-0ce585a71627"
      },
      "execution_count": 74,
      "outputs": [
        {
          "output_type": "stream",
          "name": "stdout",
          "text": [
            "2494\n",
            "22452\n"
          ]
        }
      ]
    },
    {
      "cell_type": "code",
      "source": [
        "range(1)"
      ],
      "metadata": {
        "colab": {
          "base_uri": "https://localhost:8080/"
        },
        "id": "QvCyYuAbplcD",
        "outputId": "770ab851-8288-445c-de47-55f7cb32f063"
      },
      "execution_count": 85,
      "outputs": [
        {
          "output_type": "execute_result",
          "data": {
            "text/plain": [
              "range(0, 1)"
            ]
          },
          "metadata": {},
          "execution_count": 85
        }
      ]
    },
    {
      "cell_type": "code",
      "source": [
        "batch_size = 100\n",
        "epochs = 1\n",
        "\n",
        "for epoch in range(epochs):\n",
        "  for i in tqdm_notebook(range(0, len(X_train), batch_size)):\n",
        "    batch_x = X_train[i:i+batch_size].view(-1, 1, 50, 50)\n",
        "    batch_y = y_train[i:i+batch_size]\n",
        "\n",
        "    net.zero_grad()\n",
        "    outputs = net(batch_x)\n",
        "    loss = loss_fn(outputs.float(), batch_y.float())\n",
        "    loss.backward()\n",
        "    optimizer.step()\n",
        "\n",
        "print(loss)"
      ],
      "metadata": {
        "colab": {
          "base_uri": "https://localhost:8080/",
          "height": 1000,
          "referenced_widgets": [
            "b324af492a364b7a94b06a84589fd87b",
            "003b4a0eb58947c6aa434deeba05f25d",
            "47a7f3b931b640fda17807bf4f747556",
            "dcec2a58c5534dea8dc21350159b50c7",
            "7a94fa0f2a4447d6881ad8ac476bad9f",
            "821d098f545646a8b8af24698a4a024e",
            "57179ea50479481ea777f3726f64192c",
            "a226d58bcfdb412499ab05425191827d",
            "9b71e767cab749acb2efd393ce722dfe",
            "d358d3de46314a1492fd8b610aa37ebf",
            "9a269a4049db4054b48b5d11326cd759"
          ]
        },
        "id": "-78ViVyvmGmD",
        "outputId": "159cae38-d224-4eff-d47e-12092942bdea"
      },
      "execution_count": 104,
      "outputs": [
        {
          "output_type": "stream",
          "name": "stderr",
          "text": [
            "/usr/local/lib/python3.7/dist-packages/ipykernel_launcher.py:5: TqdmDeprecationWarning: This function will be removed in tqdm==5.0.0\n",
            "Please use `tqdm.notebook.tqdm` instead of `tqdm.tqdm_notebook`\n",
            "  \"\"\"\n"
          ]
        },
        {
          "output_type": "display_data",
          "data": {
            "application/vnd.jupyter.widget-view+json": {
              "model_id": "b324af492a364b7a94b06a84589fd87b",
              "version_minor": 0,
              "version_major": 2
            },
            "text/plain": [
              "  0%|          | 0/225 [00:00<?, ?it/s]"
            ]
          },
          "metadata": {}
        },
        {
          "output_type": "stream",
          "name": "stdout",
          "text": [
            "torch.Size([128, 2, 2])\n",
            "torch.Size([128, 2, 2])\n",
            "torch.Size([128, 2, 2])\n",
            "torch.Size([128, 2, 2])\n",
            "torch.Size([128, 2, 2])\n",
            "torch.Size([128, 2, 2])\n",
            "torch.Size([128, 2, 2])\n",
            "torch.Size([128, 2, 2])\n",
            "torch.Size([128, 2, 2])\n",
            "torch.Size([128, 2, 2])\n",
            "torch.Size([128, 2, 2])\n",
            "torch.Size([128, 2, 2])\n",
            "torch.Size([128, 2, 2])\n",
            "torch.Size([128, 2, 2])\n",
            "torch.Size([128, 2, 2])\n",
            "torch.Size([128, 2, 2])\n",
            "torch.Size([128, 2, 2])\n",
            "torch.Size([128, 2, 2])\n",
            "torch.Size([128, 2, 2])\n",
            "torch.Size([128, 2, 2])\n",
            "torch.Size([128, 2, 2])\n",
            "torch.Size([128, 2, 2])\n",
            "torch.Size([128, 2, 2])\n",
            "torch.Size([128, 2, 2])\n",
            "torch.Size([128, 2, 2])\n",
            "torch.Size([128, 2, 2])\n",
            "torch.Size([128, 2, 2])\n",
            "torch.Size([128, 2, 2])\n",
            "torch.Size([128, 2, 2])\n",
            "torch.Size([128, 2, 2])\n",
            "torch.Size([128, 2, 2])\n",
            "torch.Size([128, 2, 2])\n",
            "torch.Size([128, 2, 2])\n",
            "torch.Size([128, 2, 2])\n",
            "torch.Size([128, 2, 2])\n",
            "torch.Size([128, 2, 2])\n",
            "torch.Size([128, 2, 2])\n",
            "torch.Size([128, 2, 2])\n",
            "torch.Size([128, 2, 2])\n",
            "torch.Size([128, 2, 2])\n",
            "torch.Size([128, 2, 2])\n",
            "torch.Size([128, 2, 2])\n",
            "torch.Size([128, 2, 2])\n",
            "torch.Size([128, 2, 2])\n",
            "torch.Size([128, 2, 2])\n",
            "torch.Size([128, 2, 2])\n",
            "torch.Size([128, 2, 2])\n",
            "torch.Size([128, 2, 2])\n",
            "torch.Size([128, 2, 2])\n",
            "torch.Size([128, 2, 2])\n",
            "torch.Size([128, 2, 2])\n",
            "torch.Size([128, 2, 2])\n",
            "torch.Size([128, 2, 2])\n",
            "torch.Size([128, 2, 2])\n",
            "torch.Size([128, 2, 2])\n",
            "torch.Size([128, 2, 2])\n",
            "torch.Size([128, 2, 2])\n",
            "torch.Size([128, 2, 2])\n",
            "torch.Size([128, 2, 2])\n",
            "torch.Size([128, 2, 2])\n",
            "torch.Size([128, 2, 2])\n",
            "torch.Size([128, 2, 2])\n",
            "torch.Size([128, 2, 2])\n",
            "torch.Size([128, 2, 2])\n",
            "torch.Size([128, 2, 2])\n",
            "torch.Size([128, 2, 2])\n",
            "torch.Size([128, 2, 2])\n",
            "torch.Size([128, 2, 2])\n",
            "torch.Size([128, 2, 2])\n",
            "torch.Size([128, 2, 2])\n",
            "torch.Size([128, 2, 2])\n",
            "torch.Size([128, 2, 2])\n",
            "torch.Size([128, 2, 2])\n",
            "torch.Size([128, 2, 2])\n",
            "torch.Size([128, 2, 2])\n",
            "torch.Size([128, 2, 2])\n",
            "torch.Size([128, 2, 2])\n",
            "torch.Size([128, 2, 2])\n",
            "torch.Size([128, 2, 2])\n",
            "torch.Size([128, 2, 2])\n",
            "torch.Size([128, 2, 2])\n",
            "torch.Size([128, 2, 2])\n",
            "torch.Size([128, 2, 2])\n",
            "torch.Size([128, 2, 2])\n",
            "torch.Size([128, 2, 2])\n",
            "torch.Size([128, 2, 2])\n",
            "torch.Size([128, 2, 2])\n",
            "torch.Size([128, 2, 2])\n",
            "torch.Size([128, 2, 2])\n",
            "torch.Size([128, 2, 2])\n",
            "torch.Size([128, 2, 2])\n",
            "torch.Size([128, 2, 2])\n",
            "torch.Size([128, 2, 2])\n",
            "torch.Size([128, 2, 2])\n",
            "torch.Size([128, 2, 2])\n",
            "torch.Size([128, 2, 2])\n",
            "torch.Size([128, 2, 2])\n",
            "torch.Size([128, 2, 2])\n",
            "torch.Size([128, 2, 2])\n",
            "torch.Size([128, 2, 2])\n",
            "torch.Size([128, 2, 2])\n",
            "torch.Size([128, 2, 2])\n",
            "torch.Size([128, 2, 2])\n",
            "torch.Size([128, 2, 2])\n",
            "torch.Size([128, 2, 2])\n",
            "torch.Size([128, 2, 2])\n",
            "torch.Size([128, 2, 2])\n",
            "torch.Size([128, 2, 2])\n",
            "torch.Size([128, 2, 2])\n",
            "torch.Size([128, 2, 2])\n",
            "torch.Size([128, 2, 2])\n",
            "torch.Size([128, 2, 2])\n",
            "torch.Size([128, 2, 2])\n",
            "torch.Size([128, 2, 2])\n",
            "torch.Size([128, 2, 2])\n",
            "torch.Size([128, 2, 2])\n",
            "torch.Size([128, 2, 2])\n",
            "torch.Size([128, 2, 2])\n",
            "torch.Size([128, 2, 2])\n",
            "torch.Size([128, 2, 2])\n",
            "torch.Size([128, 2, 2])\n",
            "torch.Size([128, 2, 2])\n",
            "torch.Size([128, 2, 2])\n",
            "torch.Size([128, 2, 2])\n",
            "torch.Size([128, 2, 2])\n",
            "torch.Size([128, 2, 2])\n",
            "torch.Size([128, 2, 2])\n",
            "torch.Size([128, 2, 2])\n",
            "torch.Size([128, 2, 2])\n",
            "torch.Size([128, 2, 2])\n",
            "torch.Size([128, 2, 2])\n",
            "torch.Size([128, 2, 2])\n",
            "torch.Size([128, 2, 2])\n",
            "torch.Size([128, 2, 2])\n",
            "torch.Size([128, 2, 2])\n",
            "torch.Size([128, 2, 2])\n",
            "torch.Size([128, 2, 2])\n",
            "torch.Size([128, 2, 2])\n",
            "torch.Size([128, 2, 2])\n",
            "torch.Size([128, 2, 2])\n",
            "torch.Size([128, 2, 2])\n",
            "torch.Size([128, 2, 2])\n",
            "torch.Size([128, 2, 2])\n",
            "torch.Size([128, 2, 2])\n",
            "torch.Size([128, 2, 2])\n",
            "torch.Size([128, 2, 2])\n",
            "torch.Size([128, 2, 2])\n",
            "torch.Size([128, 2, 2])\n",
            "torch.Size([128, 2, 2])\n",
            "torch.Size([128, 2, 2])\n",
            "torch.Size([128, 2, 2])\n",
            "torch.Size([128, 2, 2])\n",
            "torch.Size([128, 2, 2])\n",
            "torch.Size([128, 2, 2])\n",
            "torch.Size([128, 2, 2])\n",
            "torch.Size([128, 2, 2])\n",
            "torch.Size([128, 2, 2])\n",
            "torch.Size([128, 2, 2])\n",
            "torch.Size([128, 2, 2])\n",
            "torch.Size([128, 2, 2])\n",
            "torch.Size([128, 2, 2])\n",
            "torch.Size([128, 2, 2])\n",
            "torch.Size([128, 2, 2])\n",
            "torch.Size([128, 2, 2])\n",
            "torch.Size([128, 2, 2])\n",
            "torch.Size([128, 2, 2])\n",
            "torch.Size([128, 2, 2])\n",
            "torch.Size([128, 2, 2])\n",
            "torch.Size([128, 2, 2])\n",
            "torch.Size([128, 2, 2])\n",
            "torch.Size([128, 2, 2])\n",
            "torch.Size([128, 2, 2])\n",
            "torch.Size([128, 2, 2])\n",
            "torch.Size([128, 2, 2])\n",
            "torch.Size([128, 2, 2])\n",
            "torch.Size([128, 2, 2])\n",
            "torch.Size([128, 2, 2])\n",
            "torch.Size([128, 2, 2])\n",
            "torch.Size([128, 2, 2])\n",
            "torch.Size([128, 2, 2])\n",
            "torch.Size([128, 2, 2])\n",
            "torch.Size([128, 2, 2])\n",
            "torch.Size([128, 2, 2])\n",
            "torch.Size([128, 2, 2])\n",
            "torch.Size([128, 2, 2])\n",
            "torch.Size([128, 2, 2])\n",
            "torch.Size([128, 2, 2])\n",
            "torch.Size([128, 2, 2])\n",
            "torch.Size([128, 2, 2])\n",
            "torch.Size([128, 2, 2])\n",
            "torch.Size([128, 2, 2])\n",
            "torch.Size([128, 2, 2])\n",
            "torch.Size([128, 2, 2])\n",
            "torch.Size([128, 2, 2])\n",
            "torch.Size([128, 2, 2])\n",
            "torch.Size([128, 2, 2])\n",
            "torch.Size([128, 2, 2])\n",
            "torch.Size([128, 2, 2])\n",
            "torch.Size([128, 2, 2])\n",
            "torch.Size([128, 2, 2])\n",
            "torch.Size([128, 2, 2])\n",
            "torch.Size([128, 2, 2])\n",
            "torch.Size([128, 2, 2])\n",
            "torch.Size([128, 2, 2])\n",
            "torch.Size([128, 2, 2])\n",
            "torch.Size([128, 2, 2])\n",
            "torch.Size([128, 2, 2])\n",
            "torch.Size([128, 2, 2])\n",
            "torch.Size([128, 2, 2])\n",
            "torch.Size([128, 2, 2])\n",
            "torch.Size([128, 2, 2])\n",
            "torch.Size([128, 2, 2])\n",
            "torch.Size([128, 2, 2])\n",
            "torch.Size([128, 2, 2])\n",
            "torch.Size([128, 2, 2])\n",
            "torch.Size([128, 2, 2])\n",
            "torch.Size([128, 2, 2])\n",
            "torch.Size([128, 2, 2])\n",
            "torch.Size([128, 2, 2])\n",
            "torch.Size([128, 2, 2])\n",
            "torch.Size([128, 2, 2])\n",
            "torch.Size([128, 2, 2])\n",
            "torch.Size([128, 2, 2])\n",
            "torch.Size([128, 2, 2])\n",
            "torch.Size([128, 2, 2])\n",
            "tensor(0.2517, grad_fn=<MseLossBackward0>)\n"
          ]
        }
      ]
    },
    {
      "cell_type": "code",
      "source": [
        "correct = 0\n",
        "total = 0\n",
        "with torch.np_grad():\n",
        "  for i in tqdm_notebook(range(len(X_test))):\n",
        "    real_class = torch.argmax(test_y[i])\n",
        "    net_out = net(test)"
      ],
      "metadata": {
        "id": "OKYZBtlnuFLQ"
      },
      "execution_count": null,
      "outputs": []
    }
  ]
}